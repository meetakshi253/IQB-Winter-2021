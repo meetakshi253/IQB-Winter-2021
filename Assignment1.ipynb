{
  "nbformat": 4,
  "nbformat_minor": 5,
  "metadata": {
    "kernelspec": {
      "display_name": "Python 3",
      "language": "python",
      "name": "python3"
    },
    "language_info": {
      "codemirror_mode": {
        "name": "ipython",
        "version": 3
      },
      "file_extension": ".py",
      "mimetype": "text/x-python",
      "name": "python",
      "nbconvert_exporter": "python",
      "pygments_lexer": "ipython3",
      "version": "3.9.1"
    },
    "colab": {
      "name": "2019253-python.ipynb",
      "provenance": [],
      "collapsed_sections": []
    }
  },
  "cells": [
    {
      "cell_type": "markdown",
      "metadata": {
        "id": "pediatric-imagination"
      },
      "source": [
        "# Meetakshi Setiya, 2019253\n",
        "\n",
        "## ***IQB Assignment-1***"
      ],
      "id": "pediatric-imagination"
    },
    {
      "cell_type": "code",
      "metadata": {
        "id": "coordinated-possession",
        "colab": {
          "base_uri": "https://localhost:8080/"
        },
        "outputId": "cb41eda9-d4da-4c83-b737-f4d7599a4807"
      },
      "source": [
        "!pip install numpy\n",
        "!pip install pandas"
      ],
      "id": "coordinated-possession",
      "execution_count": null,
      "outputs": [
        {
          "output_type": "stream",
          "text": [
            "Requirement already satisfied: numpy in /usr/local/lib/python3.7/dist-packages (1.19.5)\n",
            "Requirement already satisfied: pandas in /usr/local/lib/python3.7/dist-packages (1.1.5)\n",
            "Requirement already satisfied: numpy>=1.15.4 in /usr/local/lib/python3.7/dist-packages (from pandas) (1.19.5)\n",
            "Requirement already satisfied: pytz>=2017.2 in /usr/local/lib/python3.7/dist-packages (from pandas) (2018.9)\n",
            "Requirement already satisfied: python-dateutil>=2.7.3 in /usr/local/lib/python3.7/dist-packages (from pandas) (2.8.1)\n",
            "Requirement already satisfied: six>=1.5 in /usr/local/lib/python3.7/dist-packages (from python-dateutil>=2.7.3->pandas) (1.15.0)\n"
          ],
          "name": "stdout"
        }
      ]
    },
    {
      "cell_type": "markdown",
      "metadata": {
        "id": "attended-shareware"
      },
      "source": [
        "##Question 1"
      ],
      "id": "attended-shareware"
    },
    {
      "cell_type": "code",
      "metadata": {
        "id": "current-trance",
        "colab": {
          "base_uri": "https://localhost:8080/"
        },
        "outputId": "11e568c8-defd-4f83-b32e-5699b1fdbe88"
      },
      "source": [
        "#Question 1\n",
        "import numpy as np\n",
        "import pandas\n",
        "\n",
        "X1 = \"ATCAGAGTA\"\n",
        "Y1 = \"TTCAGTA\"\n",
        "\n",
        "dp1 = np.zeros((len(X1)+1,len(Y1)+1)).astype(int)                             #creates an integer array dp1 of size (len(X1)+1)x(len(Y1)+1) or 10x8 and fills it with zeros\n",
        "possibleAlignments1=[]                                                        #to store all possible optimal alignments\n",
        "\n",
        "def initialiseDP1(gap):                                                       #initialises the first row and the first column of the dp matrix with the corresponding gap penalty\n",
        "    for i in range (len(Y1)+1):\n",
        "        dp1[0][i] = i*gap\n",
        "    \n",
        "    for i in range (len(X1)+1):\n",
        "        dp1[i][0] = i*gap\n",
        "\n",
        "        \n",
        "def returnMax1(a, b ,c):                                                      #to find maximum of three input numbers\n",
        "    l = [a,b,c]\n",
        "    return max(l)\n",
        "\n",
        "\n",
        "def appendStrings1(str1, str2):                                               #appends the optimally aligned string pairs together to a list\n",
        "    mapstring=\"\"\n",
        "    for i in range (0, len(str1)):\n",
        "        if str1[i]==str2[i]:\n",
        "            mapstring+=\"|\"                                                    #lines for mapping same characters\n",
        "        else:\n",
        "            mapstring+=\" \"\n",
        "    if (not [str1, mapstring, str2] in possibleAlignments1):\n",
        "        possibleAlignments1.append([str1, mapstring, str2])\n",
        "\n",
        "    \n",
        "def printAlignments1():\n",
        "    if len(possibleAlignments1)>1:\n",
        "        print(\"\\nb). There are more than one possibilities to optimally align the given sequences globally.\")\n",
        "    else:\n",
        "        print(\"\\nb). There is only a single possible optimal global alignment for the given sequences.\")\n",
        "    print(\"Number of possible optimal global alignments: \", len(possibleAlignments1))                         #number of possibilities of optimally aligning the given sequence(s)\n",
        "    print(\"\\nc). Possible optimal alignment(s):\")                                                             #display the aligned sequence(s)\n",
        "    for l in possibleAlignments1:\n",
        "        print(l[0])\n",
        "        print(l[1])\n",
        "        print(l[2], \"\\n\")\n",
        "\n",
        "def printDP1():                                                                             #display the dynamic programming matrix using pandas dataframe\n",
        "    _X = [\" \"]\n",
        "    _X+=list(X1)\n",
        "    _Y = [\" \"]\n",
        "    _Y+=list(Y1)\n",
        "    print(pandas.DataFrame(dp1, columns=_Y, index=_X))\n",
        "\n",
        "def backtrack1(str1, str2, i, j, gap1, mismatch1, match1):                                  #for backtracking the dp1 matrix and finding all possible solutions\n",
        "#start building the sequences from the end\n",
        "    if i==0 and j==0 and len(str1)>=len(X1) and len(str2)>=len(Y1):                         #base case \n",
        "        appendStrings1(str1, str2)                                                          #when the base case is reached, store the two optimally aligned strings together in a list\n",
        "        return\n",
        "    \n",
        "    if i>0 and j>0 and dp1[i][j]==dp1[i-1][j-1]+match1 and X1[i-1]==Y1[j-1]:                #if dp1[i][j] is obtained from dp1[i-1][j-1] by adding the score for a match and X1[i-1]==Y1[j-1], then there is a match scored between those characters of the two strings\n",
        "        #always diagonal\n",
        "        backtrack1(X1[i-1]+str1, Y1[j-1]+str2, i-1, j-1, gap1, mismatch1, match1)           #recurse on the remaining sub-problems and append the matched charcters to the respective answer strings\n",
        "\n",
        "    if i>0 and j>0 and dp1[i][j]==dp1[i-1][j-1]+mismatch1:                                  #if dp1[i][j] is obtained from dp1[i-1][j-1] by adding the mismatch penalty, then there is a mismatch between these characters of the two strings. The characters are as such appended to the answer strings\n",
        "        #mismatch \n",
        "        backtrack1(X1[i-1]+str1, Y1[j-1]+str2, i-1, j-1, gap1, mismatch1, match1)           #recurse on the remaining sub-problems and append the mismatching charcters X1[i-1] and Y1[j-1] to the respective answer strings\n",
        "    \n",
        "    if j>0 and dp1[i][j]==dp1[i][j-1]+gap1:                                                 #if dp1[i][j] comes from dp1[i][j-1] by adding the gap penalty, then a gap is to be added in the first answer string str1\n",
        "        #gap in X\n",
        "        backtrack1(\"-\"+str1, Y1[j-1]+str2, i, j-1, gap1, mismatch1, match1)                 #recurse on the remaining sub-problems and append a gap to the answer string str1 and the character Y1[j-1] to the string str2\n",
        "        \n",
        "    if i>0 and dp1[i][j]==dp1[i-1][j]+gap1:                                                 #if dp1[i][j] comes from dp1[i-1][j] by adding the gap penalty, then there a gap is to be added in the second answer string  str2     \n",
        "        #gap in Y\n",
        "        backtrack1(X1[i-1]+str1, \"-\"+str2, i-1, j, gap1, mismatch1, match1)                 #recurse on the remaining sub-problems and append a gap to the answer string str2 and the character X1[i-1] to the string str1\n",
        "                                                                                                                                                                                                                                                                                                                                                                                                                                                                                                                                                                                                                                                                                                                                                                                                                                                                                                                                                                                                                                                                                                                                                                                                                                                                                                                                                                                                                                                                                                                                                                                                                                                                                                                                                                                                                                                                                                                                                                                                                                                                                                                                                                                                                                                                                                                                                                                                                                                                                              \n",
        "\n",
        "def generateMatrix1(match1, mismatch1, gap1):                                               #fills the dp1 matrix according to the requisite recurrence relation (as taught in the lecture)\n",
        "    for i in range (1, len(X1)+1):\n",
        "        for j in range (1, len(Y1)+1): \n",
        "            if X1[i-1]!=Y1[j-1]:                                                                              #if the characters X1[i-1] and Y1[j-1] are not equal, there is a possibilty of mismatch or gap\n",
        "                dp1[i][j] = returnMax1(dp1[i-1][j-1]+mismatch1, dp1[i][j-1]+gap1, dp1[i-1][j]+gap1)           #compute maximum of character mismatch, gap in Y1 string or gap in X1 string so as to ensure optimal alignment of X1 and Y1 with maximum alignment score\n",
        "            else:\n",
        "                dp1[i][j] = dp1[i-1][j-1]+match1                                                              #if the characters  X1[i-1] and Y1[j-1] are equal, there is a match\n",
        "    print(\"\\na). Dynamic Programming Matrix:\")\n",
        "    printDP1()                                                                              #prints the dp1 matrix\n",
        "    backtrack1(\"\", \"\", len(X1), len(Y1), gap1, mismatch1, match1)                           #backtracking to find the optimal global alignments will start from the bottom right corner of the dp1 matrix\n",
        "            \n",
        "\n",
        "def main1(match1, mismatch1, gap1):                                                                           #main function to call other functions\n",
        "    #scoring scheme\n",
        "    global possibleAlignments1\n",
        "    possibleAlignments1=[]\n",
        "    initialiseDP1(gap1)                                                                                      #initialise the first row and column of the dp matrix with their corresponding gap penalties\n",
        "    generateMatrix1(match1, mismatch1, gap1)                                                                 #create the dp1 matrix\n",
        "    printAlignments1()                                                                                       #display the results\n",
        "    print(\"Optimal alignment score for each of the above alignments:\", int(dp1[-1][-1]))                     #optimal alignment score for each displayed alignment\n",
        "\n",
        "main1(2, -1, -1)    #scoring scheme for match:+2, mismatch:-1, gap:-1"
      ],
      "id": "current-trance",
      "execution_count": null,
      "outputs": [
        {
          "output_type": "stream",
          "text": [
            "\n",
            "a). Dynamic Programming Matrix:\n",
            "      T  T  C  A  G  T  A\n",
            "   0 -1 -2 -3 -4 -5 -6 -7\n",
            "A -1 -1 -2 -3 -1 -2 -3 -4\n",
            "T -2  1  1  0 -1 -2  0 -1\n",
            "C -3  0  0  3  2  1  0 -1\n",
            "A -4 -1 -1  2  5  4  3  2\n",
            "G -5 -2 -2  1  4  7  6  5\n",
            "A -6 -3 -3  0  3  6  6  8\n",
            "G -7 -4 -4 -1  2  5  5  7\n",
            "T -8 -5 -2 -2  1  4  7  6\n",
            "A -9 -6 -3 -3  0  3  6  9\n",
            "\n",
            "b). There are more than one possibilities to optimally align the given sequences globally.\n",
            "Number of possible optimal global alignments:  3\n",
            "\n",
            "c). Possible optimal alignment(s):\n",
            "ATCAGAGTA\n",
            " ||  ||||\n",
            "TTC--AGTA \n",
            "\n",
            "ATCAGAGTA\n",
            " |||  |||\n",
            "TTCA--GTA \n",
            "\n",
            "ATCAGAGTA\n",
            " ||||  ||\n",
            "TTCAG--TA \n",
            "\n",
            "Optimal alignment score for each of the above alignments: 9\n"
          ],
          "name": "stdout"
        }
      ]
    },
    {
      "cell_type": "markdown",
      "metadata": {
        "id": "popular-stadium"
      },
      "source": [
        "#### **Writeup for question 1**\n",
        "\n",
        "a) The generated dynamic programming matrix can be displayed by running the code above.<br>\n",
        "b) In the given case, there are 3 possible optimal global alignments.<br>\n",
        "c) Running the code above would display all the three possible alignments. The optimal score for each of them is 9 which will also be displayed."
      ],
      "id": "popular-stadium"
    },
    {
      "cell_type": "markdown",
      "metadata": {
        "id": "bound-latin"
      },
      "source": [
        "## Question 2"
      ],
      "id": "bound-latin"
    },
    {
      "cell_type": "code",
      "metadata": {
        "id": "faced-juvenile",
        "colab": {
          "base_uri": "https://localhost:8080/"
        },
        "outputId": "ca55cb97-975d-49b5-e3cf-095198da1580"
      },
      "source": [
        "#Question 2\n",
        "import numpy as np2\n",
        "import pandas\n",
        "\n",
        "X2=\"ATCAGAGTA\"\n",
        "Y2='TTCAGTA'\n",
        "\n",
        "dp2 = np2.zeros((len(X2)+1,len(Y2)+1)).astype(int)                                      #creates an integer array dp2 of size (len(X2)+1)x(len(Y2)+1) or 10x8 and fills it with zeros. First row and first column will already be filled with 0s so initialising the matrix is not needed \n",
        "possibleAlignments2=[]                                                                  #to store all possible optimal alignments\n",
        "\n",
        "def returnMax2(a, b ,c, d):                                                             #to find maximum of four input numbers\n",
        "    l = [a,b,c,d]\n",
        "    return max(l)\n",
        "\n",
        "def appendStrings2(str1, str2):                                                         #appends the optimally aligned string pairs together to a list\n",
        "    mapstring=\"\"\n",
        "    for i in range (0, len(str1)):\n",
        "        if str1[i]==str2[i]:\n",
        "            mapstring+=\"|\"                                                              #lines for mapping same characters\n",
        "        else:\n",
        "            mapstring+=\" \"\n",
        "    if (not [str1, mapstring, str2] in possibleAlignments2):\n",
        "        possibleAlignments2.append([str1, mapstring, str2])\n",
        "\n",
        "    \n",
        "def printAlignments2():\n",
        "    print(\"\\nb). Number of possible optimal local alignments: \", len(possibleAlignments2))            #number of possibilities of optimally aligning the given sequence(s)\n",
        "    print(\"\\nPossible optimal alignment(s):\")                                                         #display the optimum aligned sequences\n",
        "    for l in possibleAlignments2:\n",
        "        print(l[0])\n",
        "        print(l[1])\n",
        "        print(l[2], \"\\n\")  \n",
        "\n",
        "def printDP2():                                                                             #display the dynamic programming matrix using pandas dataframe\n",
        "    _X = [\" \"]\n",
        "    _X+=list(X2)\n",
        "    _Y = [\" \"]\n",
        "    _Y+=list(Y2)\n",
        "    print(pandas.DataFrame(dp2, columns=_Y, index=_X))\n",
        "        \n",
        "def backtrack2(str1, str2, i, j, gap2, mismatch2, match2):                                  #for backtracking the dp2 matrix and finding all possible solutions\n",
        "#start building the sequences from the end\n",
        "    if i==0 or j==0 or dp2[i][j]==0:                                                        #base case- as soon as a 0 is encountered (or the first row or column is reached), stop backtracking \n",
        "        appendStrings2(str1, str2)                                                          #when base case is reached, store the two optimally aligned strings together in a list\n",
        "        return\n",
        "    \n",
        "    if i>0 and j>0 and dp2[i][j]==dp2[i-1][j-1]+match2 and X2[i-1]==Y2[j-1]:                #if dp2[i][j] is obtained from dp2[i-1][j-1] by adding the score for a match and X2[i-1]==Y2[j-1], then there is a match scored between those characters of the two strings\n",
        "        #always diagonal\n",
        "        backtrack2(X2[i-1]+str1, Y2[j-1]+str2, i-1, j-1, gap2, mismatch2, match2)           #recurse on the remaining sub-problems and append the matched charcters to the respective answer strings\n",
        "\n",
        "    if i>0 and j>0 and dp2[i][j]==dp2[i-1][j-1]+mismatch2:                                  #if dp2[i][j] is obtained from dp2[i-1][j-1] by adding the mismatch penalty, then there is a mismatch between these characters of the two strings. The characters are as such appended to the answer strings\n",
        "        #mismatch \n",
        "        backtrack2(X[i-1]+str1, Y2[j-1]+str2, i-1, j-1, gap2, mismatch2, match2)            #recurse on the remaining sub-problems and append the mismatching charcters X2[i-1] and Y2[j-1] to the respective answer strings\n",
        "    \n",
        "    if j>0 and dp2[i][j]==dp2[i][j-1]+gap2:                                                 #if dp2[i][j] comes from dp2[i][j-1] by adding the gap penalty, then a gap is to be added in the first answer string str1\n",
        "        #gap in X\n",
        "        backtrack2(\"-\"+str1, Y2[j-1]+str2, i, j-1, gap2, mismatch2, match2)                 #recurse on the remaining sub-problems and append a gap to the answer string str1 and the character Y2[j-1] to the string str2\n",
        "        \n",
        "    if i>0 and dp2[i][j]==dp2[i-1][j]+gap2:                                                 #if dp2[i][j] comes from dp2[i-1][j] by adding the gap penalty, then there a gap is to be added in the second answer string str2     \n",
        "        #gap in Y\n",
        "        backtrack2(X2[i-1]+str1, \"-\"+str2, i-1, j, gap2, mismatch2, match2)                 #recurse on the remaining sub-problems and append a gap to the answer string str2 and the character X2[i-1] to the string str1\n",
        "\n",
        "\n",
        "def generateMatrix2(match, mismatch, gap):                                       #fills the dp2 matrix according to the requisite recurrence relation (as taught in the lecture)\n",
        "    max=-100000                                                                  #to keep track of the maximum alignment score in the dp2 matrix\n",
        "    maxlocation=[]                                                               #to store indices of all those cells that have maximum alignment score as stored in \"max\"\n",
        "    #no cell in the dp matrix can have a negative value\n",
        "    for i in range (1, len(X2)+1):\n",
        "        for j in range (1, len(Y2)+1):\n",
        "            if X2[i-1]!=Y2[j-1]:                                                                             #if the characters X2[i-1] and Y2[j-1] are not equal, there is a possibilty of mismatch or gap\n",
        "                dp2[i][j] = returnMax2(dp2[i-1][j-1]+mismatch, dp2[i][j-1]+gap, dp2[i-1][j]+gap,0)           #compute maximum of character mismatch, gap in Y2 string, gap in X2 string or 0 so as to ensure optimal alignment of X2 and Y2 with maximum non-negative alignment score\n",
        "            else:\n",
        "                dp2[i][j] = dp2[i-1][j-1]+match                                                              #if the characters  X2[i-1] and Y2[j-1] are equal, there is a match\n",
        "\n",
        "            if max<dp2[i][j]:                                                                                #checks if dp2[i][j] with the previously recorded maximum value. If dp2[i][j] is bigger than max and max is updated\n",
        "                max=dp2[i][j]\n",
        "                maxlocation=[(i,j)]                                                                          #since max changed, the maxlocation[] list is cleared of its previous entries and now contans indices (i,j) of the current cell with maximum alignment score\n",
        "            \n",
        "            elif max==dp2[i][j]:                                                                             #if dp2[i][j] has the same alignment score as that in \"max\", append (i,j) to the list \"maxlocation\"\n",
        "                maxlocation.append((i,j))\n",
        "    print(\"\\na). Dynamic Programming Matrix:\")\n",
        "    printDP2()                                                                                               #prints the dp2 matrix\n",
        "    \n",
        "    for k in maxlocation:                                                                                    #backtracking will start one by one from all those positions that have the maximum value in the dp2 matrix. These are contained in maxlocation list  \n",
        "        backtrack2(\"\", \"\", k[0], k[1], gap, mismatch, match)                                                 #to backtrack and find the number of possible optimal alignments starting from the indices in maxlocation one by one\n",
        "\n",
        "        \n",
        "def main2(match2, mismatch2, gap2):                                                                          #main function to call other functions\n",
        "    #scoring scheme\n",
        "    global possibleAlignments2\n",
        "    possibleAlignments2=[]\n",
        "    generateMatrix2(match2, mismatch2, gap2)                                                                 #creates the dp2 matrix\n",
        "    printAlignments2()                                                                                       #display the results\n",
        "    print(\"Optimal alignment score for each of the above alignments:\", int(dp2[-1][-1]))                     #optimal alignment score for each displayed alignment\n",
        "\n",
        "main2(2,-1,-1)    #scoring scheme for match:+2, mismatch:-1, gap:-1"
      ],
      "id": "faced-juvenile",
      "execution_count": null,
      "outputs": [
        {
          "output_type": "stream",
          "text": [
            "\n",
            "a). Dynamic Programming Matrix:\n",
            "      T  T  C  A  G  T   A\n",
            "   0  0  0  0  0  0  0   0\n",
            "A  0  0  0  0  2  1  0   2\n",
            "T  0  2  2  1  1  1  3   2\n",
            "C  0  1  1  4  3  2  2   2\n",
            "A  0  0  0  3  6  5  4   4\n",
            "G  0  0  0  2  5  8  7   6\n",
            "A  0  0  0  1  4  7  7   9\n",
            "G  0  0  0  0  3  6  6   8\n",
            "T  0  2  2  1  2  5  8   7\n",
            "A  0  1  1  1  3  4  7  10\n",
            "\n",
            "b). Number of possible optimal local alignments:  3\n",
            "\n",
            "Possible optimal alignment(s):\n",
            "TCAGAGTA\n",
            "||  ||||\n",
            "TC--AGTA \n",
            "\n",
            "TCAGAGTA\n",
            "|||  |||\n",
            "TCA--GTA \n",
            "\n",
            "TCAGAGTA\n",
            "||||  ||\n",
            "TCAG--TA \n",
            "\n",
            "Optimal alignment score for each of the above alignments: 10\n"
          ],
          "name": "stdout"
        }
      ]
    },
    {
      "cell_type": "markdown",
      "metadata": {
        "id": "living-works"
      },
      "source": [
        "#### **Writeup for question 2**\n",
        "\n",
        "a) The generated dynamic programming matrix can be displayed by running the code above.<br>\n",
        "b) Running the code above would display all the three best possible local alignments. The optimal score for each of them is 10 which will also be displayed."
      ],
      "id": "living-works"
    },
    {
      "cell_type": "markdown",
      "metadata": {
        "id": "third-observer"
      },
      "source": [
        "## Question 3"
      ],
      "id": "third-observer"
    },
    {
      "cell_type": "markdown",
      "metadata": {
        "id": "upper-skating"
      },
      "source": [
        "The following changes were required in the global alignment program to make it perform local alignment: \n",
        "\n",
        "* The first row and first column of DP matrix for local alignment had to be initialised with all zeros rather than with the positional gap penalties.<br>\n",
        "\n",
        "* The procedure to generate the DP matrix for local alignment was almost similar to that of generating DP matrix for global alignment, however, DP matrix for local alignment cannot contain negative numbers. So an additional check had to be performed in case the characters didn't match: if the alignment score from mismatch penalty or gap penalty was negative, the cell would contain 0 instead of any negative value(s). When the characters match, the score is always going to be non-negative since every cell in the DP table only has non-negative values.<br>\n",
        "\n",
        "* Backtracking to construct the actual optimal solutions in local alignment algorithm, unlike global alignment algorithm, does not start from the bottom rightmost cell. Rather, backtracking is done from the cell(s) that has/have the maximum alignment score in the DP matrix. So, while generating the DP table, the maximum alignment score and the indices of cells that contain it had to be stored in \"max\" and \"maxlocation[]\" respectively.<br>\n",
        "\n",
        "* In global alignment algorithm, backtracking started from just a single cell: the bottom rightmost. In local alignment algorithm, backtracking had to be done from each of the indices in \"maxlocation[]\" one by one. \n",
        "\n",
        "* The base case for backtracking in a global alignment algorithm was when the lengths of the answer sequences were at least equal to their original lengths and that the end of the matrix has been reached. In local alignment however, the base case for backtracking was when a zero is encountered. As soon as a zero is encountered, backtracking for those sequences stops and they are sent for formatting and printing. The lengths of reconstructed aligned sequences in local alignment algorithm can even be less than the lengths of the original strings.\n",
        "\n",
        "* The final optimal alignment score in case of the global aligment matrix was simply the last element of the DP table. However, for local alignment algorithm, it would be equal to \"max\" (the maximum score present the the DP table)."
      ],
      "id": "upper-skating"
    },
    {
      "cell_type": "markdown",
      "metadata": {
        "id": "touched-ratio"
      },
      "source": [
        "## Question 4"
      ],
      "id": "touched-ratio"
    },
    {
      "cell_type": "code",
      "metadata": {
        "id": "handmade-prague",
        "colab": {
          "base_uri": "https://localhost:8080/"
        },
        "outputId": "fb1f68a4-3b29-4783-81ef-a4c8b8876d1c"
      },
      "source": [
        "main1(2,-1,-2)       #for global alignment (Question 1)"
      ],
      "id": "handmade-prague",
      "execution_count": null,
      "outputs": [
        {
          "output_type": "stream",
          "text": [
            "\n",
            "a). Dynamic Programming Matrix:\n",
            "        T   T  C  A   G   T   A\n",
            "    0  -2  -4 -6 -8 -10 -12 -14\n",
            "A  -2  -1  -3 -5 -4  -6  -8 -10\n",
            "T  -4   0   1 -1 -3  -5  -4  -6\n",
            "C  -6  -2  -1  3  1  -1  -3  -5\n",
            "A  -8  -4  -3  1  5   3   1  -1\n",
            "G -10  -6  -5 -1  3   7   5   3\n",
            "A -12  -8  -7 -3  1   5   6   7\n",
            "G -14 -10  -9 -5 -1   3   4   5\n",
            "T -16 -12  -8 -7 -3   1   5   3\n",
            "A -18 -14 -10 -9 -5  -1   3   7\n",
            "\n",
            "b). There are more than one possibilities to optimally align the given sequences globally.\n",
            "Number of possible optimal global alignments:  3\n",
            "\n",
            "c). Possible optimal alignment(s):\n",
            "ATCAGAGTA\n",
            " ||  ||||\n",
            "TTC--AGTA \n",
            "\n",
            "ATCAGAGTA\n",
            " |||  |||\n",
            "TTCA--GTA \n",
            "\n",
            "ATCAGAGTA\n",
            " ||||  ||\n",
            "TTCAG--TA \n",
            "\n",
            "Optimal alignment score for each of the above alignments: 7\n"
          ],
          "name": "stdout"
        }
      ]
    },
    {
      "cell_type": "code",
      "metadata": {
        "scrolled": true,
        "id": "mental-driver",
        "colab": {
          "base_uri": "https://localhost:8080/"
        },
        "outputId": "6cdd2aee-5205-499b-d1e4-32030ab3d233"
      },
      "source": [
        "main2(2,-1,-2)          #for local alignment (Question 2)"
      ],
      "id": "mental-driver",
      "execution_count": null,
      "outputs": [
        {
          "output_type": "stream",
          "text": [
            "\n",
            "a). Dynamic Programming Matrix:\n",
            "      T  T  C  A  G  T  A\n",
            "   0  0  0  0  0  0  0  0\n",
            "A  0  0  0  0  2  0  0  2\n",
            "T  0  2  2  0  0  1  2  0\n",
            "C  0  0  1  4  2  0  0  1\n",
            "A  0  0  0  2  6  4  2  2\n",
            "G  0  0  0  0  4  8  6  4\n",
            "A  0  0  0  0  2  6  7  8\n",
            "G  0  0  0  0  0  4  5  6\n",
            "T  0  2  2  0  0  2  6  4\n",
            "A  0  0  1  1  2  0  4  8\n",
            "\n",
            "b). Number of possible optimal local alignments:  5\n",
            "\n",
            "Possible optimal alignment(s):\n",
            "TCAG\n",
            "||||\n",
            "TCAG \n",
            "\n",
            "TCAG-A\n",
            "|||| |\n",
            "TCAGTA \n",
            "\n",
            "AGTA\n",
            "||||\n",
            "AGTA \n",
            "\n",
            "TCAGAGTA\n",
            "|||  |||\n",
            "TCA--GTA \n",
            "\n",
            "TCAGAGTA\n",
            "||||  ||\n",
            "TCAG--TA \n",
            "\n",
            "Optimal alignment score for each of the above alignments: 8\n"
          ],
          "name": "stdout"
        }
      ]
    },
    {
      "cell_type": "markdown",
      "metadata": {
        "id": "moral-gospel"
      },
      "source": [
        "#### **Writeup for question 4**\n",
        "\n",
        " Yes, changing the scoring scheme will result in a change with respect to the results obtained in question 1 and 2. On running the above two code snippets, outputs for global and local alignment programs (done in Question 1 and Question 2 respectively) according to the scoring scheme match: +2, mismatch: -1, gap: -2, can be displayed. <br>\n",
        "\n",
        "For global alignment (Question 1), it can be observed that the DP table (dp1) has definitely changed and rightly so. Increasing the gap penalty changes the optimal alignment score too, from 9 to 7.\n",
        "Even though the optimal alignment score changed, the optimal global alignments themselves remain the same. Changing the gap penalty affects the arithmetic of the whole DP table resulting in different answers. Coincidentaly, the same optimal sequence alignments that totalled to 9 in Question 1, scored 7 here too. This happened because globally aligning the two given sequences would anyway require at least two gaps in the second sequence.\n",
        "\n",
        "For local alignment (Question 2), it can be observed that the DP table (dp2) has changed, the optimal alignment score has also changed from 10 to 8. It can also be seen that the maximum alignment score i.e. 8 occurs in multiple positions in the new dp2 matrix compared to 10 appearing only once in the old matrix dp2. This will give us locally aligned sequences of varied lengths. When penalty on gaps is increased, local alignment avoids adding too much of them. Consequently, it is seen that 5 different possible optimum locally aligned sequences of various lengths are generated compared to the 3 in Question 2. All these newly generated sequences score 8 according to the new  scoring criteria."
      ],
      "id": "moral-gospel"
    }
  ]
}